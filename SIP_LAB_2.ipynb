{
  "nbformat": 4,
  "nbformat_minor": 0,
  "metadata": {
    "colab": {
      "provenance": [],
      "authorship_tag": "ABX9TyMuVaishCII07IVH2wkNbfQ",
      "include_colab_link": true
    },
    "kernelspec": {
      "name": "python3",
      "display_name": "Python 3"
    },
    "language_info": {
      "name": "python"
    }
  },
  "cells": [
    {
      "cell_type": "markdown",
      "metadata": {
        "id": "view-in-github",
        "colab_type": "text"
      },
      "source": [
        "<a href=\"https://colab.research.google.com/github/LuciferX45/Signal-Image-Processing-Labs/blob/main/SIP_LAB_2.ipynb\" target=\"_parent\"><img src=\"https://colab.research.google.com/assets/colab-badge.svg\" alt=\"Open In Colab\"/></a>"
      ]
    },
    {
      "cell_type": "markdown",
      "source": [
        "# **SIP PRACTICAL 2**\n",
        "# **GAUTAM PADHI I034**\n",
        "# **BTech AI SEM IV B2**"
      ],
      "metadata": {
        "id": "Q2Vc-KVD_hQT"
      }
    },
    {
      "cell_type": "code",
      "execution_count": null,
      "metadata": {
        "id": "DVbEy_oM-1CY"
      },
      "outputs": [],
      "source": [
        "import numpy as np\n",
        "import matplotlib.pyplot as plt\n",
        "import warnings\n",
        "warnings.filterwarnings('ignore')\n",
        "import time"
      ]
    },
    {
      "cell_type": "code",
      "source": [
        "# Plotting the Graph\n",
        "x=[1,2,2,1]\n",
        "n=np.arange(0,4,1)\n",
        "plt.stem(n,x)"
      ],
      "metadata": {
        "id": "pmZQ1FBvBEjl",
        "colab": {
          "base_uri": "https://localhost:8080/",
          "height": 283
        },
        "outputId": "2a130b26-6453-41cf-d3e5-a332791e9cca"
      },
      "execution_count": null,
      "outputs": [
        {
          "output_type": "execute_result",
          "data": {
            "text/plain": [
              "<StemContainer object of 3 artists>"
            ]
          },
          "metadata": {},
          "execution_count": 15
        },
        {
          "output_type": "display_data",
          "data": {
            "image/png": "[encoded data removed]",
            "text/plain": [
              "<Figure size 432x288 with 1 Axes>"
            ]
          },
          "metadata": {
            "needs_background": "light"
          }
        }
      ]
    },
    {
      "cell_type": "markdown",
      "source": [
        "## **Discrete Fourier Transform**"
      ],
      "metadata": {
        "id": "ThJqK12A1SWD"
      }
    },
    {
      "cell_type": "code",
      "source": [
        "start=time.time()"
      ],
      "metadata": {
        "id": "Mi3yComcBQ5e"
      },
      "execution_count": null,
      "outputs": []
    },
    {
      "cell_type": "code",
      "source": [
        "#Twiddle Matrix\n",
        "W=np.zeros((4,4),dtype='complex')\n",
        "complex=1j\n",
        "for i in range(0,4):\n",
        "  for j in range(0,4):\n",
        "\n",
        "    alpha =  -2 * np.pi * i* j* 0.25 \n",
        "    W[i,j] = np.round(np.cos(alpha)-complex*np.sin(alpha))\n",
        "W"
      ],
      "metadata": {
        "colab": {
          "base_uri": "https://localhost:8080/"
        },
        "id": "8qA8MTXBKIWB",
        "outputId": "9114bbc7-33ec-4a11-c150-5ced8ac13830"
      },
      "execution_count": null,
      "outputs": [
        {
          "output_type": "execute_result",
          "data": {
            "text/plain": [
              "array([[ 1.+0.j,  1.+0.j,  1.+0.j,  1.+0.j],\n",
              "       [ 1.+0.j,  0.+1.j, -1.+0.j, -0.-1.j],\n",
              "       [ 1.+0.j, -1.+0.j,  1.-0.j, -1.+0.j],\n",
              "       [ 1.+0.j, -0.-1.j, -1.+0.j,  0.+1.j]])"
            ]
          },
          "metadata": {},
          "execution_count": 17
        }
      ]
    },
    {
      "cell_type": "code",
      "source": [
        "Q = np.dot(W,np.transpose(x))\n",
        "Q"
      ],
      "metadata": {
        "colab": {
          "base_uri": "https://localhost:8080/"
        },
        "id": "XsXpXZUGDAYz",
        "outputId": "457c79d4-627d-461a-e6f9-5ad5028c4fe5"
      },
      "execution_count": null,
      "outputs": [
        {
          "output_type": "execute_result",
          "data": {
            "text/plain": [
              "array([ 6.+0.j, -1.+1.j,  0.+0.j, -1.-1.j])"
            ]
          },
          "metadata": {},
          "execution_count": 18
        }
      ]
    },
    {
      "cell_type": "code",
      "source": [
        "end=time.time()"
      ],
      "metadata": {
        "id": "TeuGh2Qz0gY4"
      },
      "execution_count": null,
      "outputs": []
    },
    {
      "cell_type": "code",
      "source": [
        "X = np.fft.fft(x)\n",
        "print(X)"
      ],
      "metadata": {
        "colab": {
          "base_uri": "https://localhost:8080/"
        },
        "id": "gCiBigU-0jnL",
        "outputId": "36931a71-ac66-451c-b3e0-b136f69ffac1"
      },
      "execution_count": null,
      "outputs": [
        {
          "output_type": "stream",
          "name": "stdout",
          "text": [
            "[ 6.+0.j -1.-1.j  0.+0.j -1.+1.j]\n"
          ]
        }
      ]
    },
    {
      "cell_type": "markdown",
      "source": [
        "## **Inverse Discrete Fourier Transform**"
      ],
      "metadata": {
        "id": "m1yA3Rnx1k40"
      }
    },
    {
      "cell_type": "code",
      "source": [
        "#Twiddle factor matrix.\n",
        "W2=np.zeros((4,4),dtype='complex')\n",
        "complex=1j\n",
        "for i in range(0,4):\n",
        "  for j in range(0,4):\n",
        "\n",
        "    alpha =  2 * np.pi * i* j* 0.25 \n",
        "    W2[i,j] = np.round(np.cos(alpha)+complex*np.sin(alpha))*0.25\n",
        "W2"
      ],
      "metadata": {
        "colab": {
          "base_uri": "https://localhost:8080/"
        },
        "id": "gw89J9yG0sPL",
        "outputId": "99f2f9db-af4e-4fa5-e1ae-a377ec248770"
      },
      "execution_count": null,
      "outputs": [
        {
          "output_type": "execute_result",
          "data": {
            "text/plain": [
              "array([[ 0.25+0.j  ,  0.25+0.j  ,  0.25+0.j  ,  0.25+0.j  ],\n",
              "       [ 0.25+0.j  ,  0.  +0.25j, -0.25+0.j  ,  0.  -0.25j],\n",
              "       [ 0.25+0.j  , -0.25+0.j  ,  0.25+0.j  , -0.25+0.j  ],\n",
              "       [ 0.25+0.j  ,  0.  -0.25j, -0.25+0.j  ,  0.  +0.25j]])"
            ]
          },
          "metadata": {},
          "execution_count": 21
        }
      ]
    },
    {
      "cell_type": "code",
      "source": [
        "start1=time.time()"
      ],
      "metadata": {
        "id": "jxfB9AP40xhy"
      },
      "execution_count": null,
      "outputs": []
    },
    {
      "cell_type": "code",
      "source": [
        "R = np.dot(W2,np.transpose(x))\n",
        "R"
      ],
      "metadata": {
        "colab": {
          "base_uri": "https://localhost:8080/"
        },
        "id": "cIxY2TqM0xcA",
        "outputId": "cb59cd64-a12f-47ca-f114-82d3392acb06"
      },
      "execution_count": null,
      "outputs": [
        {
          "output_type": "execute_result",
          "data": {
            "text/plain": [
              "array([ 1.5 +0.j  , -0.25+0.25j,  0.  +0.j  , -0.25-0.25j])"
            ]
          },
          "metadata": {},
          "execution_count": 23
        }
      ]
    },
    {
      "cell_type": "code",
      "source": [
        "#Verification using .ifft:-\n",
        "Y = np.fft.ifft(x)\n",
        "print(Y)\n",
        "\n",
        "end1=time.time()"
      ],
      "metadata": {
        "colab": {
          "base_uri": "https://localhost:8080/"
        },
        "id": "pKo13rQA0xZL",
        "outputId": "e110fe6c-db1e-4e91-f2ea-d3b5993927d3"
      },
      "execution_count": null,
      "outputs": [
        {
          "output_type": "stream",
          "name": "stdout",
          "text": [
            "[ 1.5 +0.j   -0.25+0.25j  0.  +0.j   -0.25-0.25j]\n"
          ]
        }
      ]
    },
    {
      "cell_type": "code",
      "source": [
        "print('The total time elapsed using twiddle factor matrix==',end-start,'millisecond')"
      ],
      "metadata": {
        "colab": {
          "base_uri": "https://localhost:8080/"
        },
        "id": "hKFtqPK00xRG",
        "outputId": "9d58286b-7e70-4eca-cd00-30dc1502fbf9"
      },
      "execution_count": null,
      "outputs": [
        {
          "output_type": "stream",
          "name": "stdout",
          "text": [
            "The total time elapsed using twiddle factor matrix== 0.03377127647399902 millisecond\n"
          ]
        }
      ]
    },
    {
      "cell_type": "code",
      "source": [
        "print('The total time elapsed using readymade function ==',end1-start1,'millisecond')"
      ],
      "metadata": {
        "colab": {
          "base_uri": "https://localhost:8080/"
        },
        "id": "01rACBKm0xEh",
        "outputId": "97921eea-0dff-4327-a332-f68281c438be"
      },
      "execution_count": null,
      "outputs": [
        {
          "output_type": "stream",
          "name": "stdout",
          "text": [
            "The total time elapsed using readymade function == 0.027886152267456055 millisecond\n"
          ]
        }
      ]
    },
    {
      "cell_type": "markdown",
      "source": [
        "# **Conclusion**\n",
        "The readymade function for the fourier transformus faster than the manual made function."
      ],
      "metadata": {
        "id": "jOddUoln1vFw"
      }
    }
  ]
}